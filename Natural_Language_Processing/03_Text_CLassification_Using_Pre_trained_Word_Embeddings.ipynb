{
  "nbformat": 4,
  "nbformat_minor": 0,
  "metadata": {
    "colab": {
      "provenance": [],
      "authorship_tag": "ABX9TyPyRUb3c+aCU5L+17iy2INe",
      "include_colab_link": true
    },
    "kernelspec": {
      "name": "python3",
      "display_name": "Python 3"
    },
    "language_info": {
      "name": "python"
    }
  },
  "cells": [
    {
      "cell_type": "markdown",
      "metadata": {
        "id": "view-in-github",
        "colab_type": "text"
      },
      "source": [
        "<a href=\"https://colab.research.google.com/github/Jihaad2021/Paractical_Keras/blob/main/Natural_Language_Processing/03_Text_CLassification_Using_Pre_trained_Word_Embeddings.ipynb\" target=\"_parent\"><img src=\"https://colab.research.google.com/assets/colab-badge.svg\" alt=\"Open In Colab\"/></a>"
      ]
    },
    {
      "cell_type": "code",
      "execution_count": 1,
      "metadata": {
        "id": "_jHw_HoglX60"
      },
      "outputs": [],
      "source": [
        "# Setup \n",
        "import numpy as np \n",
        "import tensorflow as tf \n",
        "from tensorflow import keras "
      ]
    },
    {
      "cell_type": "code",
      "source": [
        "# download the newsgroup20 data \n",
        "data_path = keras.utils.get_file(\n",
        "    \"news20.tar.gz\",\n",
        "    \"http://www.cs.cmu.edu/afs/cs.cmu.edu/project/theo-20/www/data/news20.tar.gz\",\n",
        "    untar=True,\n",
        ")"
      ],
      "metadata": {
        "colab": {
          "base_uri": "https://localhost:8080/"
        },
        "id": "rVzjdxVtiOuw",
        "outputId": "e30afb3f-ec2f-402b-dd6c-b93a6ad049e4"
      },
      "execution_count": 2,
      "outputs": [
        {
          "output_type": "stream",
          "name": "stdout",
          "text": [
            "Downloading data from http://www.cs.cmu.edu/afs/cs.cmu.edu/project/theo-20/www/data/news20.tar.gz\n",
            "17329808/17329808 [==============================] - 9s 1us/step\n"
          ]
        }
      ]
    },
    {
      "cell_type": "code",
      "source": [
        "import os \n",
        "import pathlib \n",
        "\n",
        "data_dir = pathlib.Path(data_path).parent / \"20_newsgroup\"\n",
        "dirnames = os.listdir(data_dir)\n",
        "print(\"Number of directories: \", len(dirnames)) \n",
        "print(\"Directory names: \", dirnames) \n",
        "\n",
        "fnames = os.listdir(data_dir/\"comp.graphics\")\n",
        "print(\"Number of files in comp.graphics: \", len(fnames))\n",
        "print(\"Some example filenames: \", fnames[:5])\n"
      ],
      "metadata": {
        "colab": {
          "base_uri": "https://localhost:8080/"
        },
        "id": "Lj7APht2iVRh",
        "outputId": "66a46149-e03e-4cd6-c902-0639a7f6382b"
      },
      "execution_count": 4,
      "outputs": [
        {
          "output_type": "stream",
          "name": "stdout",
          "text": [
            "Number of directories:  20\n",
            "Directory names:  ['rec.motorcycles', 'misc.forsale', 'comp.graphics', 'comp.sys.ibm.pc.hardware', 'soc.religion.christian', 'sci.space', 'rec.sport.baseball', 'talk.politics.misc', 'comp.windows.x', 'sci.med', 'talk.religion.misc', 'talk.politics.guns', 'rec.autos', 'sci.crypt', 'talk.politics.mideast', 'comp.sys.mac.hardware', 'rec.sport.hockey', 'comp.os.ms-windows.misc', 'sci.electronics', 'alt.atheism']\n",
            "Number of files in comp.graphics:  1000\n",
            "Some example filenames:  ['37955', '38810', '39061', '39081', '39014']\n"
          ]
        }
      ]
    },
    {
      "cell_type": "code",
      "source": [
        "print(open(data_dir / \"comp.graphics\" / \"38987\").read())"
      ],
      "metadata": {
        "colab": {
          "base_uri": "https://localhost:8080/"
        },
        "id": "w1U53EhVjAh_",
        "outputId": "0935c2df-1704-4835-ae31-40b6103bed63"
      },
      "execution_count": 5,
      "outputs": [
        {
          "output_type": "stream",
          "name": "stdout",
          "text": [
            "Newsgroups: comp.graphics\n",
            "Path: cantaloupe.srv.cs.cmu.edu!das-news.harvard.edu!noc.near.net!howland.reston.ans.net!agate!dog.ee.lbl.gov!network.ucsd.edu!usc!rpi!nason110.its.rpi.edu!mabusj\n",
            "From: mabusj@nason110.its.rpi.edu (Jasen M. Mabus)\n",
            "Subject: Looking for Brain in CAD\n",
            "Message-ID: <c285m+p@rpi.edu>\n",
            "Nntp-Posting-Host: nason110.its.rpi.edu\n",
            "Reply-To: mabusj@rpi.edu\n",
            "Organization: Rensselaer Polytechnic Institute, Troy, NY.\n",
            "Date: Thu, 29 Apr 1993 23:27:20 GMT\n",
            "Lines: 7\n",
            "\n",
            "Jasen Mabus\n",
            "RPI student\n",
            "\n",
            "\tI am looking for a hman brain in any CAD (.dxf,.cad,.iges,.cgm,etc.) or picture (.gif,.jpg,.ras,etc.) format for an animation demonstration. If any has or knows of a location please reply by e-mail to mabusj@rpi.edu.\n",
            "\n",
            "Thank you in advance,\n",
            "Jasen Mabus  \n",
            "\n"
          ]
        }
      ]
    },
    {
      "cell_type": "code",
      "source": [
        "samples = []\n",
        "labels = []\n",
        "class_names = []\n",
        "class_index = 0\n",
        "for dirname in sorted(os.listdir(data_dir)):\n",
        "    class_names.append(dirname)\n",
        "    dirpath = data_dir / dirname\n",
        "    fnames = os.listdir(dirpath)\n",
        "    print(\"Processing %s, %d files found\" % (dirname, len(fnames)))\n",
        "    for fname in fnames:\n",
        "        fpath = dirpath / fname\n",
        "        f = open(fpath, encoding=\"latin-1\")\n",
        "        content = f.read()\n",
        "        lines = content.split(\"\\n\")\n",
        "        lines = lines[10:]\n",
        "        content = \"\\n\".join(lines)\n",
        "        samples.append(content)\n",
        "        labels.append(class_index)\n",
        "    class_index += 1\n",
        "\n",
        "print(\"Classes:\", class_names)\n",
        "print(\"Number of samples:\", len(samples))"
      ],
      "metadata": {
        "colab": {
          "base_uri": "https://localhost:8080/"
        },
        "id": "x15RpD39jZU3",
        "outputId": "8548fb86-4b27-4aec-82bc-d32e43d31165"
      },
      "execution_count": 9,
      "outputs": [
        {
          "output_type": "stream",
          "name": "stdout",
          "text": [
            "Processing alt.atheism, 1000 files found\n",
            "Processing comp.graphics, 1000 files found\n",
            "Processing comp.os.ms-windows.misc, 1000 files found\n",
            "Processing comp.sys.ibm.pc.hardware, 1000 files found\n",
            "Processing comp.sys.mac.hardware, 1000 files found\n",
            "Processing comp.windows.x, 1000 files found\n",
            "Processing misc.forsale, 1000 files found\n",
            "Processing rec.autos, 1000 files found\n",
            "Processing rec.motorcycles, 1000 files found\n",
            "Processing rec.sport.baseball, 1000 files found\n",
            "Processing rec.sport.hockey, 1000 files found\n",
            "Processing sci.crypt, 1000 files found\n",
            "Processing sci.electronics, 1000 files found\n",
            "Processing sci.med, 1000 files found\n",
            "Processing sci.space, 1000 files found\n",
            "Processing soc.religion.christian, 997 files found\n",
            "Processing talk.politics.guns, 1000 files found\n",
            "Processing talk.politics.mideast, 1000 files found\n",
            "Processing talk.politics.misc, 1000 files found\n",
            "Processing talk.religion.misc, 1000 files found\n",
            "Classes: ['alt.atheism', 'comp.graphics', 'comp.os.ms-windows.misc', 'comp.sys.ibm.pc.hardware', 'comp.sys.mac.hardware', 'comp.windows.x', 'misc.forsale', 'rec.autos', 'rec.motorcycles', 'rec.sport.baseball', 'rec.sport.hockey', 'sci.crypt', 'sci.electronics', 'sci.med', 'sci.space', 'soc.religion.christian', 'talk.politics.guns', 'talk.politics.mideast', 'talk.politics.misc', 'talk.religion.misc']\n",
            "Number of samples: 19997\n"
          ]
        }
      ]
    },
    {
      "cell_type": "code",
      "source": [
        "# shuffle and split the data into training and validation sets\n",
        "\n",
        "# shuffle the data \n",
        "seed = 1337 \n",
        "rng = np.random.RandomState(seed) \n",
        "rng.shuffle(samples)\n",
        "\n",
        "rng = np.random.RandomState(seed)\n",
        "rng.shuffle(labels) \n",
        "\n",
        "# extract a training & validation split \n",
        "validation_split = 0.2 \n",
        "num_validation_samples = int(validation_split * len(samples)) \n",
        "\n",
        "train_samples = samples[:-num_validation_samples]\n",
        "val_samples = samples[-num_validation_samples:]\n",
        "\n",
        "train_labels = labels[:-num_validation_samples]\n",
        "val_labels = labels[-num_validation_samples:]\n"
      ],
      "metadata": {
        "id": "gD_LdK8ak7kJ"
      },
      "execution_count": 10,
      "outputs": []
    },
    {
      "cell_type": "code",
      "source": [
        "# creating a vocabulary index \n",
        "\n",
        "from tensorflow.keras.layers import TextVectorization \n",
        "\n",
        "vectorizer = TextVectorization(max_tokens=20000, output_sequence_length=200)\n",
        "text_ds = tf.data.Dataset.from_tensor_slices(train_samples).batch(128)\n",
        "vectorizer.adapt(text_ds)"
      ],
      "metadata": {
        "id": "6abEZQFum_SG"
      },
      "execution_count": 12,
      "outputs": []
    },
    {
      "cell_type": "code",
      "source": [
        "vectorizer.get_vocabulary()[:5]"
      ],
      "metadata": {
        "colab": {
          "base_uri": "https://localhost:8080/"
        },
        "id": "ZAGtxYrvnc_W",
        "outputId": "9849b8b0-72da-451e-9813-c614dd8cb5b3"
      },
      "execution_count": 14,
      "outputs": [
        {
          "output_type": "execute_result",
          "data": {
            "text/plain": [
              "['', '[UNK]', 'the', 'to', 'of']"
            ]
          },
          "metadata": {},
          "execution_count": 14
        }
      ]
    },
    {
      "cell_type": "code",
      "source": [
        "output = vectorizer([[\"the cat sat on the mat\"]])\n",
        "output.numpy()[0,:6]"
      ],
      "metadata": {
        "colab": {
          "base_uri": "https://localhost:8080/"
        },
        "id": "6Ut-VKWNnnZG",
        "outputId": "5263789f-55bc-4146-b9f0-5c78791cce25"
      },
      "execution_count": 15,
      "outputs": [
        {
          "output_type": "execute_result",
          "data": {
            "text/plain": [
              "array([   2, 3678, 1683,   15,    2, 7192])"
            ]
          },
          "metadata": {},
          "execution_count": 15
        }
      ]
    },
    {
      "cell_type": "code",
      "source": [
        "voc = vectorizer.get_vocabulary()\n",
        "word_index = dict(zip(voc, range(len(voc)))) "
      ],
      "metadata": {
        "id": "GsTc3Ty6qaPj"
      },
      "execution_count": 22,
      "outputs": []
    },
    {
      "cell_type": "code",
      "source": [
        "test = [\"the\", \"cat\", \"sat\", \"on\", \"the\", \"mat\"]\n",
        "[word_index[w] for w in test]"
      ],
      "metadata": {
        "colab": {
          "base_uri": "https://localhost:8080/"
        },
        "id": "QR_T1WYNqmJd",
        "outputId": "cdd84550-17ef-49f3-bd5c-a9d93444bd1b"
      },
      "execution_count": 23,
      "outputs": [
        {
          "output_type": "execute_result",
          "data": {
            "text/plain": [
              "[2, 3678, 1683, 15, 2, 7192]"
            ]
          },
          "metadata": {},
          "execution_count": 23
        }
      ]
    },
    {
      "cell_type": "code",
      "source": [
        "# Load pre-trained word embeddings \n",
        "!wget http://nlp.stanford.edu/data/glove.6B.zip\n",
        "!unzip -q glove.6B.zip"
      ],
      "metadata": {
        "colab": {
          "base_uri": "https://localhost:8080/"
        },
        "id": "dQVuhparnz1O",
        "outputId": "2178fa6d-2d67-4711-c906-c4d4cd05324c"
      },
      "execution_count": 16,
      "outputs": [
        {
          "output_type": "stream",
          "name": "stdout",
          "text": [
            "--2023-05-11 21:01:57--  http://nlp.stanford.edu/data/glove.6B.zip\n",
            "Resolving nlp.stanford.edu (nlp.stanford.edu)... 171.64.67.140\n",
            "Connecting to nlp.stanford.edu (nlp.stanford.edu)|171.64.67.140|:80... connected.\n",
            "HTTP request sent, awaiting response... 302 Found\n",
            "Location: https://nlp.stanford.edu/data/glove.6B.zip [following]\n",
            "--2023-05-11 21:01:57--  https://nlp.stanford.edu/data/glove.6B.zip\n",
            "Connecting to nlp.stanford.edu (nlp.stanford.edu)|171.64.67.140|:443... connected.\n",
            "HTTP request sent, awaiting response... 301 Moved Permanently\n",
            "Location: https://downloads.cs.stanford.edu/nlp/data/glove.6B.zip [following]\n",
            "--2023-05-11 21:01:58--  https://downloads.cs.stanford.edu/nlp/data/glove.6B.zip\n",
            "Resolving downloads.cs.stanford.edu (downloads.cs.stanford.edu)... 171.64.64.22\n",
            "Connecting to downloads.cs.stanford.edu (downloads.cs.stanford.edu)|171.64.64.22|:443... connected.\n",
            "HTTP request sent, awaiting response... 200 OK\n",
            "Length: 862182613 (822M) [application/zip]\n",
            "Saving to: ‘glove.6B.zip’\n",
            "\n",
            "glove.6B.zip        100%[===================>] 822.24M  5.02MB/s    in 2m 39s  \n",
            "\n",
            "2023-05-11 21:04:37 (5.17 MB/s) - ‘glove.6B.zip’ saved [862182613/862182613]\n",
            "\n"
          ]
        }
      ]
    },
    {
      "cell_type": "code",
      "source": [
        "# Let's make a dict mapping words (strings) to their NumPy vector representation:\n",
        "\n",
        "path_to_glove_file = \"/content/glove.6B.100d.txt\"\n",
        "\n",
        "embeddings_index = {}\n",
        "with open(path_to_glove_file) as f:\n",
        "    for line in f:\n",
        "        word, coefs = line.split(maxsplit=1)\n",
        "        coefs = np.fromstring(coefs, \"f\", sep=\" \")\n",
        "        embeddings_index[word] = coefs\n",
        "\n",
        "print(\"Found %s word vectors.\" % len(embeddings_index))\n"
      ],
      "metadata": {
        "colab": {
          "base_uri": "https://localhost:8080/"
        },
        "id": "xYHOiT8boBLS",
        "outputId": "472f2bc8-a236-4f4a-d13d-fcd42dd9438a"
      },
      "execution_count": 24,
      "outputs": [
        {
          "output_type": "stream",
          "name": "stdout",
          "text": [
            "Found 400000 word vectors.\n"
          ]
        }
      ]
    },
    {
      "cell_type": "code",
      "source": [
        "num_tokens = len(voc)+2 \n",
        "embedding_dim = 100 \n",
        "hits = 0 \n",
        "misses = 0\n",
        "\n",
        "# prepare embedding matrix \n",
        "embedding_matrix = np.zeros((num_tokens, embedding_dim))\n",
        "for word, i in word_index.items(): \n",
        "  embedding_vector = embeddings_index.get(word) \n",
        "  if embedding_vector is not None: \n",
        "    embedding_matrix[i] = embedding_vector \n",
        "    hits += 1 \n",
        "  else:\n",
        "    misses +=1 \n",
        "\n",
        "print(\"Converted %d words (%d misses)\" % (hits, misses))"
      ],
      "metadata": {
        "colab": {
          "base_uri": "https://localhost:8080/"
        },
        "id": "zJ_EAfSwo8E7",
        "outputId": "d8165bff-6cb8-4dcf-e739-f4dc472f3b0c"
      },
      "execution_count": 26,
      "outputs": [
        {
          "output_type": "stream",
          "name": "stdout",
          "text": [
            "Converted 18002 words (1998 misses)\n"
          ]
        }
      ]
    },
    {
      "cell_type": "code",
      "source": [
        "from tensorflow.keras.layers import Embedding\n",
        "\n",
        "embedding_layer = Embedding(\n",
        "    num_tokens,\n",
        "    embedding_dim,\n",
        "    embeddings_initializer=keras.initializers.Constant(embedding_matrix),\n",
        "    trainable=False,\n",
        ")\n"
      ],
      "metadata": {
        "id": "MPnJGpcxrXNe"
      },
      "execution_count": 35,
      "outputs": []
    },
    {
      "cell_type": "code",
      "source": [
        "# Build the model \n",
        "\n",
        "from tensorflow.keras import layers \n",
        "int_sequence_input = keras.Input(shape=(None,), dtype=\"int64\")\n",
        "embedded_sequences = embedding_layer(int_sequence_input) \n",
        "x = layers.Conv1D(128, 5, activation=\"relu\")(embedded_sequences) \n",
        "x = layers.MaxPooling1D(5)(x)\n",
        "x = layers.Conv1D(128, 5, activation=\"relu\")(x)\n",
        "x = layers.MaxPooling1D(5)(x)\n",
        "x = layers.Conv1D(128, 5, activation=\"relu\")(x)\n",
        "x = layers.GlobalMaxPooling1D()(x)\n",
        "x = layers.Dense(128, activation=\"relu\")(x) \n",
        "x = layers.Dropout(0.5)(x)\n",
        "preds = layers.Dense(len(class_names), activation=\"softmax\")(x) \n",
        "model = keras.Model(int_sequence_input, preds) \n",
        "model.summary()\n"
      ],
      "metadata": {
        "colab": {
          "base_uri": "https://localhost:8080/"
        },
        "id": "rHn_I8u-sbyj",
        "outputId": "b9bd8e63-ef07-4c33-c86a-da0c39fcdf58"
      },
      "execution_count": 38,
      "outputs": [
        {
          "output_type": "stream",
          "name": "stdout",
          "text": [
            "Model: \"model\"\n",
            "_________________________________________________________________\n",
            " Layer (type)                Output Shape              Param #   \n",
            "=================================================================\n",
            " input_4 (InputLayer)        [(None, None)]            0         \n",
            "                                                                 \n",
            " embedding (Embedding)       (None, None, 100)         2000200   \n",
            "                                                                 \n",
            " conv1d_6 (Conv1D)           (None, None, 128)         64128     \n",
            "                                                                 \n",
            " max_pooling1d_4 (MaxPooling  (None, None, 128)        0         \n",
            " 1D)                                                             \n",
            "                                                                 \n",
            " conv1d_7 (Conv1D)           (None, None, 128)         82048     \n",
            "                                                                 \n",
            " max_pooling1d_5 (MaxPooling  (None, None, 128)        0         \n",
            " 1D)                                                             \n",
            "                                                                 \n",
            " conv1d_8 (Conv1D)           (None, None, 128)         82048     \n",
            "                                                                 \n",
            " global_max_pooling1d_2 (Glo  (None, 128)              0         \n",
            " balMaxPooling1D)                                                \n",
            "                                                                 \n",
            " dense (Dense)               (None, 128)               16512     \n",
            "                                                                 \n",
            " dropout (Dropout)           (None, 128)               0         \n",
            "                                                                 \n",
            " dense_1 (Dense)             (None, 20)                2580      \n",
            "                                                                 \n",
            "=================================================================\n",
            "Total params: 2,247,516\n",
            "Trainable params: 247,316\n",
            "Non-trainable params: 2,000,200\n",
            "_________________________________________________________________\n"
          ]
        }
      ]
    },
    {
      "cell_type": "code",
      "source": [
        "# train the model \n",
        "x_train = vectorizer(np.array([[s] for s in train_samples])).numpy() \n",
        "x_val = vectorizer(np.array([[s] for s in val_samples])).numpy() \n",
        "\n",
        "y_train = np.array(train_labels) \n",
        "y_val = np.array(val_labels)"
      ],
      "metadata": {
        "id": "Cqsf4hH0tdT_"
      },
      "execution_count": 39,
      "outputs": []
    },
    {
      "cell_type": "code",
      "source": [
        "model.compile(loss=\"sparse_categorical_crossentropy\", optimizer=\"rmsprop\", metrics=[\"acc\"])\n",
        "model.fit(x_train, y_train, batch_size=128, epochs=20, validation_data=(x_val, y_val))"
      ],
      "metadata": {
        "colab": {
          "base_uri": "https://localhost:8080/"
        },
        "id": "LzDeiXZhudaI",
        "outputId": "d6c795e4-b619-4869-e00e-506880b8b401"
      },
      "execution_count": 40,
      "outputs": [
        {
          "output_type": "stream",
          "name": "stdout",
          "text": [
            "Epoch 1/20\n",
            "125/125 [==============================] - 23s 176ms/step - loss: 2.6865 - acc: 0.1319 - val_loss: 2.1035 - val_acc: 0.2848\n",
            "Epoch 2/20\n",
            "125/125 [==============================] - 22s 175ms/step - loss: 1.9979 - acc: 0.3046 - val_loss: 1.5798 - val_acc: 0.4484\n",
            "Epoch 3/20\n",
            "125/125 [==============================] - 23s 188ms/step - loss: 1.5736 - acc: 0.4523 - val_loss: 1.2896 - val_acc: 0.5584\n",
            "Epoch 4/20\n",
            "125/125 [==============================] - 21s 167ms/step - loss: 1.2923 - acc: 0.5557 - val_loss: 1.1510 - val_acc: 0.6002\n",
            "Epoch 5/20\n",
            "125/125 [==============================] - 23s 180ms/step - loss: 1.1192 - acc: 0.6176 - val_loss: 1.3401 - val_acc: 0.5609\n",
            "Epoch 6/20\n",
            "125/125 [==============================] - 22s 180ms/step - loss: 0.9867 - acc: 0.6641 - val_loss: 1.2222 - val_acc: 0.6042\n",
            "Epoch 7/20\n",
            "125/125 [==============================] - 21s 172ms/step - loss: 0.8726 - acc: 0.6991 - val_loss: 1.0552 - val_acc: 0.6434\n",
            "Epoch 8/20\n",
            "125/125 [==============================] - 22s 173ms/step - loss: 0.7796 - acc: 0.7300 - val_loss: 1.0107 - val_acc: 0.6727\n",
            "Epoch 9/20\n",
            "125/125 [==============================] - 21s 165ms/step - loss: 0.6808 - acc: 0.7629 - val_loss: 0.9795 - val_acc: 0.6854\n",
            "Epoch 10/20\n",
            "125/125 [==============================] - 22s 178ms/step - loss: 0.5987 - acc: 0.7919 - val_loss: 1.0438 - val_acc: 0.6762\n",
            "Epoch 11/20\n",
            "125/125 [==============================] - 22s 179ms/step - loss: 0.5248 - acc: 0.8147 - val_loss: 1.0174 - val_acc: 0.6912\n",
            "Epoch 12/20\n",
            "125/125 [==============================] - 22s 179ms/step - loss: 0.4637 - acc: 0.8398 - val_loss: 1.1378 - val_acc: 0.6957\n",
            "Epoch 13/20\n",
            "125/125 [==============================] - 22s 176ms/step - loss: 0.3895 - acc: 0.8651 - val_loss: 1.1363 - val_acc: 0.6904\n",
            "Epoch 14/20\n",
            "125/125 [==============================] - 21s 166ms/step - loss: 0.3410 - acc: 0.8797 - val_loss: 1.1004 - val_acc: 0.7024\n",
            "Epoch 15/20\n",
            "125/125 [==============================] - 21s 172ms/step - loss: 0.3302 - acc: 0.8900 - val_loss: 1.2765 - val_acc: 0.6747\n",
            "Epoch 16/20\n",
            "125/125 [==============================] - 22s 179ms/step - loss: 0.2770 - acc: 0.9056 - val_loss: 1.1723 - val_acc: 0.7069\n",
            "Epoch 17/20\n",
            "125/125 [==============================] - 22s 179ms/step - loss: 0.2522 - acc: 0.9156 - val_loss: 1.3943 - val_acc: 0.6679\n",
            "Epoch 18/20\n",
            "125/125 [==============================] - 21s 171ms/step - loss: 0.2388 - acc: 0.9196 - val_loss: 1.3525 - val_acc: 0.6914\n",
            "Epoch 19/20\n",
            "125/125 [==============================] - 22s 177ms/step - loss: 0.2131 - acc: 0.9278 - val_loss: 1.6006 - val_acc: 0.6624\n",
            "Epoch 20/20\n",
            "125/125 [==============================] - 21s 168ms/step - loss: 0.2051 - acc: 0.9342 - val_loss: 1.3664 - val_acc: 0.7059\n"
          ]
        },
        {
          "output_type": "execute_result",
          "data": {
            "text/plain": [
              "<keras.callbacks.History at 0x7f2a13744040>"
            ]
          },
          "metadata": {},
          "execution_count": 40
        }
      ]
    },
    {
      "cell_type": "code",
      "source": [
        "# export an end-to=end model \n",
        "\n",
        "string_input = keras.Input(shape=(1,), dtype=\"string\")\n",
        "x = vectorizer(string_input) \n",
        "preds = model(x) \n",
        "end_to_end_model = keras.Model(string_input, preds)\n",
        "\n",
        "probabilities = end_to_end_model.predict(\n",
        "    [[\"this message is about computer graphics and 3D modeling\"]]\n",
        ")\n",
        "class_names[np.argmax(probabilities[0])]"
      ],
      "metadata": {
        "colab": {
          "base_uri": "https://localhost:8080/",
          "height": 54
        },
        "id": "mMmTHEo_u1EQ",
        "outputId": "9acb3dde-3fc6-434d-c57b-f099631df93a"
      },
      "execution_count": 41,
      "outputs": [
        {
          "output_type": "stream",
          "name": "stdout",
          "text": [
            "1/1 [==============================] - 0s 156ms/step\n"
          ]
        },
        {
          "output_type": "execute_result",
          "data": {
            "text/plain": [
              "'comp.graphics'"
            ],
            "application/vnd.google.colaboratory.intrinsic+json": {
              "type": "string"
            }
          },
          "metadata": {},
          "execution_count": 41
        }
      ]
    },
    {
      "cell_type": "code",
      "source": [],
      "metadata": {
        "id": "9dUSPC9BxUbi"
      },
      "execution_count": null,
      "outputs": []
    }
  ]
}