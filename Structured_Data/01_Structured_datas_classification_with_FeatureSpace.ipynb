{
  "nbformat": 4,
  "nbformat_minor": 0,
  "metadata": {
    "colab": {
      "provenance": [],
      "authorship_tag": "ABX9TyNsbBWZVjJKNlrutElnAxvF",
      "include_colab_link": true
    },
    "kernelspec": {
      "name": "python3",
      "display_name": "Python 3"
    },
    "language_info": {
      "name": "python"
    }
  },
  "cells": [
    {
      "cell_type": "markdown",
      "metadata": {
        "id": "view-in-github",
        "colab_type": "text"
      },
      "source": [
        "<a href=\"https://colab.research.google.com/github/Jihaad2021/Paractical_Keras/blob/main/Structured_Data/01_Structured_datas_classification_with_FeatureSpace.ipynb\" target=\"_parent\"><img src=\"https://colab.research.google.com/assets/colab-badge.svg\" alt=\"Open In Colab\"/></a>"
      ]
    },
    {
      "cell_type": "code",
      "execution_count": 16,
      "metadata": {
        "id": "dPTyqKoOy6BU"
      },
      "outputs": [],
      "source": [
        "# setup \n",
        "import pandas as pd \n",
        "import tensorflow as tf \n",
        "from tensorflow import keras"
      ]
    },
    {
      "cell_type": "code",
      "source": [
        "# preparing the data \n",
        "file_url = \"http://storage.googleapis.com/download.tensorflow.org/data/heart.csv\"\n",
        "dataframe = pd.read_csv(file_url)"
      ],
      "metadata": {
        "id": "4S0iatcb86Dp"
      },
      "execution_count": 17,
      "outputs": []
    },
    {
      "cell_type": "code",
      "source": [
        "print(dataframe.shape)"
      ],
      "metadata": {
        "colab": {
          "base_uri": "https://localhost:8080/"
        },
        "id": "mBnDaFbF8-C0",
        "outputId": "592007ee-5815-4bc4-b84c-1f2293a26e9b"
      },
      "execution_count": 18,
      "outputs": [
        {
          "output_type": "stream",
          "name": "stdout",
          "text": [
            "(303, 14)\n"
          ]
        }
      ]
    },
    {
      "cell_type": "code",
      "source": [
        "dataframe.head()"
      ],
      "metadata": {
        "colab": {
          "base_uri": "https://localhost:8080/",
          "height": 268
        },
        "id": "KdyUJHSu9AJ6",
        "outputId": "14927052-6c24-409b-ac13-3842ec1d006d"
      },
      "execution_count": 19,
      "outputs": [
        {
          "output_type": "execute_result",
          "data": {
            "text/plain": [
              "   age  sex  cp  trestbps  chol  fbs  restecg  thalach  exang  oldpeak  slope  \\\n",
              "0   63    1   1       145   233    1        2      150      0      2.3      3   \n",
              "1   67    1   4       160   286    0        2      108      1      1.5      2   \n",
              "2   67    1   4       120   229    0        2      129      1      2.6      2   \n",
              "3   37    1   3       130   250    0        0      187      0      3.5      3   \n",
              "4   41    0   2       130   204    0        2      172      0      1.4      1   \n",
              "\n",
              "   ca        thal  target  \n",
              "0   0       fixed       0  \n",
              "1   3      normal       1  \n",
              "2   2  reversible       0  \n",
              "3   0      normal       0  \n",
              "4   0      normal       0  "
            ],
            "text/html": [
              "\n",
              "  <div id=\"df-eb6b0439-43a3-4229-958c-f1e96bf5c03d\">\n",
              "    <div class=\"colab-df-container\">\n",
              "      <div>\n",
              "<style scoped>\n",
              "    .dataframe tbody tr th:only-of-type {\n",
              "        vertical-align: middle;\n",
              "    }\n",
              "\n",
              "    .dataframe tbody tr th {\n",
              "        vertical-align: top;\n",
              "    }\n",
              "\n",
              "    .dataframe thead th {\n",
              "        text-align: right;\n",
              "    }\n",
              "</style>\n",
              "<table border=\"1\" class=\"dataframe\">\n",
              "  <thead>\n",
              "    <tr style=\"text-align: right;\">\n",
              "      <th></th>\n",
              "      <th>age</th>\n",
              "      <th>sex</th>\n",
              "      <th>cp</th>\n",
              "      <th>trestbps</th>\n",
              "      <th>chol</th>\n",
              "      <th>fbs</th>\n",
              "      <th>restecg</th>\n",
              "      <th>thalach</th>\n",
              "      <th>exang</th>\n",
              "      <th>oldpeak</th>\n",
              "      <th>slope</th>\n",
              "      <th>ca</th>\n",
              "      <th>thal</th>\n",
              "      <th>target</th>\n",
              "    </tr>\n",
              "  </thead>\n",
              "  <tbody>\n",
              "    <tr>\n",
              "      <th>0</th>\n",
              "      <td>63</td>\n",
              "      <td>1</td>\n",
              "      <td>1</td>\n",
              "      <td>145</td>\n",
              "      <td>233</td>\n",
              "      <td>1</td>\n",
              "      <td>2</td>\n",
              "      <td>150</td>\n",
              "      <td>0</td>\n",
              "      <td>2.3</td>\n",
              "      <td>3</td>\n",
              "      <td>0</td>\n",
              "      <td>fixed</td>\n",
              "      <td>0</td>\n",
              "    </tr>\n",
              "    <tr>\n",
              "      <th>1</th>\n",
              "      <td>67</td>\n",
              "      <td>1</td>\n",
              "      <td>4</td>\n",
              "      <td>160</td>\n",
              "      <td>286</td>\n",
              "      <td>0</td>\n",
              "      <td>2</td>\n",
              "      <td>108</td>\n",
              "      <td>1</td>\n",
              "      <td>1.5</td>\n",
              "      <td>2</td>\n",
              "      <td>3</td>\n",
              "      <td>normal</td>\n",
              "      <td>1</td>\n",
              "    </tr>\n",
              "    <tr>\n",
              "      <th>2</th>\n",
              "      <td>67</td>\n",
              "      <td>1</td>\n",
              "      <td>4</td>\n",
              "      <td>120</td>\n",
              "      <td>229</td>\n",
              "      <td>0</td>\n",
              "      <td>2</td>\n",
              "      <td>129</td>\n",
              "      <td>1</td>\n",
              "      <td>2.6</td>\n",
              "      <td>2</td>\n",
              "      <td>2</td>\n",
              "      <td>reversible</td>\n",
              "      <td>0</td>\n",
              "    </tr>\n",
              "    <tr>\n",
              "      <th>3</th>\n",
              "      <td>37</td>\n",
              "      <td>1</td>\n",
              "      <td>3</td>\n",
              "      <td>130</td>\n",
              "      <td>250</td>\n",
              "      <td>0</td>\n",
              "      <td>0</td>\n",
              "      <td>187</td>\n",
              "      <td>0</td>\n",
              "      <td>3.5</td>\n",
              "      <td>3</td>\n",
              "      <td>0</td>\n",
              "      <td>normal</td>\n",
              "      <td>0</td>\n",
              "    </tr>\n",
              "    <tr>\n",
              "      <th>4</th>\n",
              "      <td>41</td>\n",
              "      <td>0</td>\n",
              "      <td>2</td>\n",
              "      <td>130</td>\n",
              "      <td>204</td>\n",
              "      <td>0</td>\n",
              "      <td>2</td>\n",
              "      <td>172</td>\n",
              "      <td>0</td>\n",
              "      <td>1.4</td>\n",
              "      <td>1</td>\n",
              "      <td>0</td>\n",
              "      <td>normal</td>\n",
              "      <td>0</td>\n",
              "    </tr>\n",
              "  </tbody>\n",
              "</table>\n",
              "</div>\n",
              "      <button class=\"colab-df-convert\" onclick=\"convertToInteractive('df-eb6b0439-43a3-4229-958c-f1e96bf5c03d')\"\n",
              "              title=\"Convert this dataframe to an interactive table.\"\n",
              "              style=\"display:none;\">\n",
              "        \n",
              "  <svg xmlns=\"http://www.w3.org/2000/svg\" height=\"24px\"viewBox=\"0 0 24 24\"\n",
              "       width=\"24px\">\n",
              "    <path d=\"M0 0h24v24H0V0z\" fill=\"none\"/>\n",
              "    <path d=\"M18.56 5.44l.94 2.06.94-2.06 2.06-.94-2.06-.94-.94-2.06-.94 2.06-2.06.94zm-11 1L8.5 8.5l.94-2.06 2.06-.94-2.06-.94L8.5 2.5l-.94 2.06-2.06.94zm10 10l.94 2.06.94-2.06 2.06-.94-2.06-.94-.94-2.06-.94 2.06-2.06.94z\"/><path d=\"M17.41 7.96l-1.37-1.37c-.4-.4-.92-.59-1.43-.59-.52 0-1.04.2-1.43.59L10.3 9.45l-7.72 7.72c-.78.78-.78 2.05 0 2.83L4 21.41c.39.39.9.59 1.41.59.51 0 1.02-.2 1.41-.59l7.78-7.78 2.81-2.81c.8-.78.8-2.07 0-2.86zM5.41 20L4 18.59l7.72-7.72 1.47 1.35L5.41 20z\"/>\n",
              "  </svg>\n",
              "      </button>\n",
              "      \n",
              "  <style>\n",
              "    .colab-df-container {\n",
              "      display:flex;\n",
              "      flex-wrap:wrap;\n",
              "      gap: 12px;\n",
              "    }\n",
              "\n",
              "    .colab-df-convert {\n",
              "      background-color: #E8F0FE;\n",
              "      border: none;\n",
              "      border-radius: 50%;\n",
              "      cursor: pointer;\n",
              "      display: none;\n",
              "      fill: #1967D2;\n",
              "      height: 32px;\n",
              "      padding: 0 0 0 0;\n",
              "      width: 32px;\n",
              "    }\n",
              "\n",
              "    .colab-df-convert:hover {\n",
              "      background-color: #E2EBFA;\n",
              "      box-shadow: 0px 1px 2px rgba(60, 64, 67, 0.3), 0px 1px 3px 1px rgba(60, 64, 67, 0.15);\n",
              "      fill: #174EA6;\n",
              "    }\n",
              "\n",
              "    [theme=dark] .colab-df-convert {\n",
              "      background-color: #3B4455;\n",
              "      fill: #D2E3FC;\n",
              "    }\n",
              "\n",
              "    [theme=dark] .colab-df-convert:hover {\n",
              "      background-color: #434B5C;\n",
              "      box-shadow: 0px 1px 3px 1px rgba(0, 0, 0, 0.15);\n",
              "      filter: drop-shadow(0px 1px 2px rgba(0, 0, 0, 0.3));\n",
              "      fill: #FFFFFF;\n",
              "    }\n",
              "  </style>\n",
              "\n",
              "      <script>\n",
              "        const buttonEl =\n",
              "          document.querySelector('#df-eb6b0439-43a3-4229-958c-f1e96bf5c03d button.colab-df-convert');\n",
              "        buttonEl.style.display =\n",
              "          google.colab.kernel.accessAllowed ? 'block' : 'none';\n",
              "\n",
              "        async function convertToInteractive(key) {\n",
              "          const element = document.querySelector('#df-eb6b0439-43a3-4229-958c-f1e96bf5c03d');\n",
              "          const dataTable =\n",
              "            await google.colab.kernel.invokeFunction('convertToInteractive',\n",
              "                                                     [key], {});\n",
              "          if (!dataTable) return;\n",
              "\n",
              "          const docLinkHtml = 'Like what you see? Visit the ' +\n",
              "            '<a target=\"_blank\" href=https://colab.research.google.com/notebooks/data_table.ipynb>data table notebook</a>'\n",
              "            + ' to learn more about interactive tables.';\n",
              "          element.innerHTML = '';\n",
              "          dataTable['output_type'] = 'display_data';\n",
              "          await google.colab.output.renderOutput(dataTable, element);\n",
              "          const docLink = document.createElement('div');\n",
              "          docLink.innerHTML = docLinkHtml;\n",
              "          element.appendChild(docLink);\n",
              "        }\n",
              "      </script>\n",
              "    </div>\n",
              "  </div>\n",
              "  "
            ]
          },
          "metadata": {},
          "execution_count": 19
        }
      ]
    },
    {
      "cell_type": "code",
      "source": [
        "# creat train and validation data\n",
        "val_dataframe = dataframe.sample(frac=0.2, random_state=1337) \n",
        "train_dataframe = dataframe.drop(val_dataframe.index) \n",
        "\n",
        "print(\n",
        "    \"Using %d samples for training and %d for validation\"\n",
        "    % (len(train_dataframe), len(val_dataframe))\n",
        ")"
      ],
      "metadata": {
        "colab": {
          "base_uri": "https://localhost:8080/"
        },
        "id": "_T5C8LYP9ESD",
        "outputId": "3ea0d2cc-9b45-4095-d47e-ec5492ac20f7"
      },
      "execution_count": 20,
      "outputs": [
        {
          "output_type": "stream",
          "name": "stdout",
          "text": [
            "Using 242 samples for training and 61 for validation\n"
          ]
        }
      ]
    },
    {
      "cell_type": "code",
      "source": [
        "# convert data to tensor file\n",
        "def dataframe_to_dataset(dataframe): \n",
        "  dataframe = dataframe.copy()\n",
        "  labels = dataframe.pop(\"target\")\n",
        "  ds = tf.data.Dataset.from_tensor_slices((dict(dataframe), labels)) \n",
        "  ds = ds.shuffle(buffer_size=len(dataframe))\n",
        "  return ds \n",
        "\n",
        "train_ds = dataframe_to_dataset(train_dataframe)\n",
        "val_ds = dataframe_to_dataset(val_dataframe)"
      ],
      "metadata": {
        "id": "bXAnaxI-9aIT"
      },
      "execution_count": 21,
      "outputs": []
    },
    {
      "cell_type": "code",
      "source": [
        "for x,y in train_ds.take(1):\n",
        "  print(\"Input:\", x)\n",
        "  print(\"Target:\", y)"
      ],
      "metadata": {
        "colab": {
          "base_uri": "https://localhost:8080/"
        },
        "id": "JnAINj9A98h6",
        "outputId": "d664063f-c4dd-40ee-d407-a0b1b6c075e0"
      },
      "execution_count": 22,
      "outputs": [
        {
          "output_type": "stream",
          "name": "stdout",
          "text": [
            "Input: {'age': <tf.Tensor: shape=(), dtype=int64, numpy=58>, 'sex': <tf.Tensor: shape=(), dtype=int64, numpy=1>, 'cp': <tf.Tensor: shape=(), dtype=int64, numpy=4>, 'trestbps': <tf.Tensor: shape=(), dtype=int64, numpy=100>, 'chol': <tf.Tensor: shape=(), dtype=int64, numpy=234>, 'fbs': <tf.Tensor: shape=(), dtype=int64, numpy=0>, 'restecg': <tf.Tensor: shape=(), dtype=int64, numpy=0>, 'thalach': <tf.Tensor: shape=(), dtype=int64, numpy=156>, 'exang': <tf.Tensor: shape=(), dtype=int64, numpy=0>, 'oldpeak': <tf.Tensor: shape=(), dtype=float64, numpy=0.1>, 'slope': <tf.Tensor: shape=(), dtype=int64, numpy=1>, 'ca': <tf.Tensor: shape=(), dtype=int64, numpy=1>, 'thal': <tf.Tensor: shape=(), dtype=string, numpy=b'reversible'>}\n",
            "Target: tf.Tensor(1, shape=(), dtype=int64)\n"
          ]
        }
      ]
    },
    {
      "cell_type": "code",
      "source": [
        "train_ds = train_ds.batch(32)\n",
        "val_ds = val_ds.batch(32)"
      ],
      "metadata": {
        "id": "FZGJl5JY-U53"
      },
      "execution_count": 23,
      "outputs": []
    },
    {
      "cell_type": "code",
      "source": [
        "# confuguring a FeatureSpace \n",
        "\n",
        "from keras.utils import FeatureSpace \n",
        "\n",
        "feature_space = FeatureSpace(\n",
        "    features={\n",
        "        #categorical features encoded as integers \n",
        "        \"sex\":\"integer_categorical\",\n",
        "        \"cp\":\"integer_categorical\",\n",
        "        \"fbs\":\"integer_categorical\",\n",
        "        \"restecg\":\"integer_categorical\",\n",
        "        \"exang\":\"integer_categorical\",\n",
        "        \"ca\":\"integer_categorical\",\n",
        "        # categorical features encode as string\n",
        "        \"thal\":\"string_categorical\",\n",
        "        # numerical features to discrete \n",
        "        \"age\":\"float_discretized\",\n",
        "        # numerical features ti normalize \n",
        "        \"trestbps\":\"float_normalized\",\n",
        "        \"chol\":\"float_normalized\",\n",
        "        \"oldpeak\":\"float_normalized\",\n",
        "        \"slope\":\"float_normalized\",\n",
        "    },\n",
        "    crosses = [(\"sex\", \"age\"), (\"thal\", \"ca\")],\n",
        "    crossing_dim=32,\n",
        "    output_mode=\"concat\",\n",
        ")"
      ],
      "metadata": {
        "id": "O8TrMGHj-oIV"
      },
      "execution_count": 24,
      "outputs": []
    },
    {
      "cell_type": "code",
      "source": [
        "# further customizing a featurespace \n",
        "feature_space = FeatureSpace(\n",
        "    features={\n",
        "        # Categorical features encoded as integers\n",
        "        \"sex\": FeatureSpace.integer_categorical(num_oov_indices=0),\n",
        "        \"cp\": FeatureSpace.integer_categorical(num_oov_indices=0),\n",
        "        \"fbs\": FeatureSpace.integer_categorical(num_oov_indices=0),\n",
        "        \"restecg\": FeatureSpace.integer_categorical(num_oov_indices=0),\n",
        "        \"exang\": FeatureSpace.integer_categorical(num_oov_indices=0),\n",
        "        \"ca\": FeatureSpace.integer_categorical(num_oov_indices=0),\n",
        "        # Categorical feature encoded as string\n",
        "        \"thal\": FeatureSpace.string_categorical(num_oov_indices=0),\n",
        "        # Numerical features to normalize\n",
        "        \"age\": FeatureSpace.float_discretized(num_bins=30),\n",
        "        # Numerical features to normalize\n",
        "        \"trestbps\": FeatureSpace.float_normalized(),\n",
        "        \"chol\": FeatureSpace.float_normalized(),\n",
        "        \"thalach\": FeatureSpace.float_normalized(),\n",
        "        \"oldpeak\": FeatureSpace.float_normalized(),\n",
        "        \"slope\": FeatureSpace.float_normalized(),\n",
        "    },\n",
        "    # Specify feature cross with a custom crossing dim.\n",
        "    crosses=[\n",
        "        FeatureSpace.cross(feature_names=(\"sex\", \"age\"), crossing_dim=64),\n",
        "        FeatureSpace.cross(\n",
        "            feature_names=(\"thal\", \"ca\"),\n",
        "            crossing_dim=16,\n",
        "        ),\n",
        "    ],\n",
        "    output_mode=\"concat\",\n",
        ")\n"
      ],
      "metadata": {
        "id": "N2ETaO_7DKXq"
      },
      "execution_count": 25,
      "outputs": []
    },
    {
      "cell_type": "code",
      "source": [
        "# adapt the featurespace to the training data \n",
        "train_ds_with_no_labels = train_ds.map(lambda x, _: x) \n",
        "feature_space.adapt(train_ds_with_no_labels)"
      ],
      "metadata": {
        "id": "ZaM7PQ-SDfxS"
      },
      "execution_count": 26,
      "outputs": []
    },
    {
      "cell_type": "code",
      "source": [
        "for x, _ in train_ds.take(1):\n",
        "  preprocessed_x = feature_space(x) \n",
        "  print(\"preprocessed_x.shape:\", preprocessed_x.shape)\n",
        "  print(\"preprocessed_x.dtype:\", preprocessed_x.dtype)\n",
        "  "
      ],
      "metadata": {
        "colab": {
          "base_uri": "https://localhost:8080/"
        },
        "id": "PfJvfmHxD0JB",
        "outputId": "1f65cc40-7a05-4326-d386-45a0ff945f5b"
      },
      "execution_count": 27,
      "outputs": [
        {
          "output_type": "stream",
          "name": "stdout",
          "text": [
            "preprocessed_x.shape: (32, 138)\n",
            "preprocessed_x.dtype: <dtype: 'float32'>\n"
          ]
        }
      ]
    },
    {
      "cell_type": "code",
      "source": [
        "preprocessed_train_ds = train_ds.map(\n",
        "    lambda x, y: (feature_space(x), y), num_parallel_calls=tf.data.AUTOTUNE\n",
        ")\n",
        "preprocessed_train_ds = preprocessed_train_ds.prefetch(tf.data.AUTOTUNE) \n",
        "\n",
        "\n",
        "preprocessed_val_ds = val_ds.map(\n",
        "    lambda x, y: (feature_space(x), y), num_parallel_calls=tf.data.AUTOTUNE\n",
        ")\n",
        "preprocessed_val_ds = preprocessed_val_ds.prefetch(tf.data.AUTOTUNE) \n"
      ],
      "metadata": {
        "id": "6VAC9kgQEGRa"
      },
      "execution_count": 29,
      "outputs": []
    },
    {
      "cell_type": "code",
      "source": [
        "# Build a model \n",
        "\n",
        "dict_inputs = feature_space.get_inputs()\n",
        "encoded_features = feature_space.get_encoded_features() \n",
        "\n",
        "x = keras.layers.Dense(32, activation=\"relu\")(encoded_features)\n",
        "x = keras.layers.Dropout(0.5)(x) \n",
        "predictions = keras.layers.Dense(1, activation=\"sigmoid\")(x)\n",
        "\n",
        "training_model = keras.Model(inputs=encoded_features, outputs=predictions) \n",
        "training_model.compile(optimizer=\"adam\", loss=\"binary_crossentropy\", metrics=[\"accuracy\"])\n",
        "\n",
        "inference_model = keras.Model(inputs=dict_inputs, outputs=predictions)"
      ],
      "metadata": {
        "id": "r17iAg33-evP"
      },
      "execution_count": 30,
      "outputs": []
    },
    {
      "cell_type": "code",
      "source": [
        "# train the model \n",
        "training_model.fit(preprocessed_train_ds, epochs=20, validation_data=preprocessed_val_ds)"
      ],
      "metadata": {
        "colab": {
          "base_uri": "https://localhost:8080/"
        },
        "id": "nsm0HTlT_WZh",
        "outputId": "a4d4aa22-0cb0-4e73-ea7a-1eabc989d49f"
      },
      "execution_count": 31,
      "outputs": [
        {
          "output_type": "stream",
          "name": "stdout",
          "text": [
            "Epoch 1/20\n",
            "8/8 [==============================] - 2s 108ms/step - loss: 0.6173 - accuracy: 0.6860 - val_loss: 0.5644 - val_accuracy: 0.7541\n",
            "Epoch 2/20\n",
            "8/8 [==============================] - 0s 66ms/step - loss: 0.5667 - accuracy: 0.7645 - val_loss: 0.5254 - val_accuracy: 0.7213\n",
            "Epoch 3/20\n",
            "8/8 [==============================] - 0s 62ms/step - loss: 0.5123 - accuracy: 0.7479 - val_loss: 0.4914 - val_accuracy: 0.7213\n",
            "Epoch 4/20\n",
            "8/8 [==============================] - 0s 62ms/step - loss: 0.4873 - accuracy: 0.7727 - val_loss: 0.4646 - val_accuracy: 0.7377\n",
            "Epoch 5/20\n",
            "8/8 [==============================] - 1s 111ms/step - loss: 0.4488 - accuracy: 0.7975 - val_loss: 0.4437 - val_accuracy: 0.7377\n",
            "Epoch 6/20\n",
            "8/8 [==============================] - 1s 126ms/step - loss: 0.4264 - accuracy: 0.8058 - val_loss: 0.4263 - val_accuracy: 0.7377\n",
            "Epoch 7/20\n",
            "8/8 [==============================] - 0s 62ms/step - loss: 0.4109 - accuracy: 0.8223 - val_loss: 0.4118 - val_accuracy: 0.7705\n",
            "Epoch 8/20\n",
            "8/8 [==============================] - 0s 66ms/step - loss: 0.4027 - accuracy: 0.7975 - val_loss: 0.4001 - val_accuracy: 0.7869\n",
            "Epoch 9/20\n",
            "8/8 [==============================] - 0s 61ms/step - loss: 0.3830 - accuracy: 0.8223 - val_loss: 0.3917 - val_accuracy: 0.8033\n",
            "Epoch 10/20\n",
            "8/8 [==============================] - 0s 52ms/step - loss: 0.3703 - accuracy: 0.8306 - val_loss: 0.3853 - val_accuracy: 0.8033\n",
            "Epoch 11/20\n",
            "8/8 [==============================] - 0s 49ms/step - loss: 0.3400 - accuracy: 0.8719 - val_loss: 0.3808 - val_accuracy: 0.7869\n",
            "Epoch 12/20\n",
            "8/8 [==============================] - 0s 53ms/step - loss: 0.3455 - accuracy: 0.8554 - val_loss: 0.3774 - val_accuracy: 0.7869\n",
            "Epoch 13/20\n",
            "8/8 [==============================] - 0s 59ms/step - loss: 0.3436 - accuracy: 0.8636 - val_loss: 0.3743 - val_accuracy: 0.7869\n",
            "Epoch 14/20\n",
            "8/8 [==============================] - 0s 61ms/step - loss: 0.3289 - accuracy: 0.8760 - val_loss: 0.3726 - val_accuracy: 0.7869\n",
            "Epoch 15/20\n",
            "8/8 [==============================] - 0s 61ms/step - loss: 0.2927 - accuracy: 0.9008 - val_loss: 0.3712 - val_accuracy: 0.7869\n",
            "Epoch 16/20\n",
            "8/8 [==============================] - 0s 63ms/step - loss: 0.2929 - accuracy: 0.8843 - val_loss: 0.3709 - val_accuracy: 0.7869\n",
            "Epoch 17/20\n",
            "8/8 [==============================] - 1s 80ms/step - loss: 0.3109 - accuracy: 0.8843 - val_loss: 0.3709 - val_accuracy: 0.7869\n",
            "Epoch 18/20\n",
            "8/8 [==============================] - 1s 84ms/step - loss: 0.2800 - accuracy: 0.8802 - val_loss: 0.3723 - val_accuracy: 0.7869\n",
            "Epoch 19/20\n",
            "8/8 [==============================] - 1s 77ms/step - loss: 0.2676 - accuracy: 0.8843 - val_loss: 0.3741 - val_accuracy: 0.7869\n",
            "Epoch 20/20\n",
            "8/8 [==============================] - 1s 179ms/step - loss: 0.2760 - accuracy: 0.8595 - val_loss: 0.3758 - val_accuracy: 0.7869\n"
          ]
        },
        {
          "output_type": "execute_result",
          "data": {
            "text/plain": [
              "<keras.callbacks.History at 0x7f188cf4dba0>"
            ]
          },
          "metadata": {},
          "execution_count": 31
        }
      ]
    },
    {
      "cell_type": "code",
      "source": [
        "# inference on new data with end-to-end model \n",
        "\n",
        "sample = {\n",
        "    \"age\": 60,\n",
        "    \"sex\": 1,\n",
        "    \"cp\": 1,\n",
        "    \"trestbps\": 145,\n",
        "    \"chol\": 233,\n",
        "    \"fbs\": 1,\n",
        "    \"restecg\": 2,\n",
        "    \"thalach\": 150,\n",
        "    \"exang\": 0,\n",
        "    \"oldpeak\": 2.3,\n",
        "    \"slope\": 3,\n",
        "    \"ca\": 0,\n",
        "    \"thal\": \"fixed\",\n",
        "}\n",
        "\n",
        "input_dict = {name: tf.convert_to_tensor([value]) for name, value in sample.items()}\n",
        "predictions = inference_model.predict(input_dict)\n",
        "\n",
        "print(\n",
        "    f\"This particular patient had a {100 * predictions[0][0]:.2f}% probability \"\n",
        "    \"of having a heart disease, as evaluated by our model.\"\n",
        ")"
      ],
      "metadata": {
        "colab": {
          "base_uri": "https://localhost:8080/"
        },
        "id": "4DM4QC7X_gXo",
        "outputId": "1a63031e-13ef-405d-eb86-8d1faaac9bc2"
      },
      "execution_count": 32,
      "outputs": [
        {
          "output_type": "stream",
          "name": "stdout",
          "text": [
            "1/1 [==============================] - 1s 657ms/step\n",
            "This particular patient had a 50.55% probability of having a heart disease, as evaluated by our model.\n"
          ]
        }
      ]
    },
    {
      "cell_type": "code",
      "source": [],
      "metadata": {
        "id": "TzE8j6AQ_pXR"
      },
      "execution_count": null,
      "outputs": []
    }
  ]
}