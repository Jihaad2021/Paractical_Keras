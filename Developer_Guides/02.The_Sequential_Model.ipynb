{
  "nbformat": 4,
  "nbformat_minor": 0,
  "metadata": {
    "colab": {
      "provenance": [],
      "authorship_tag": "ABX9TyOETdfAImGLTEZNDXryntG3",
      "include_colab_link": true
    },
    "kernelspec": {
      "name": "python3",
      "display_name": "Python 3"
    },
    "language_info": {
      "name": "python"
    }
  },
  "cells": [
    {
      "cell_type": "markdown",
      "metadata": {
        "id": "view-in-github",
        "colab_type": "text"
      },
      "source": [
        "<a href=\"https://colab.research.google.com/github/Jihaad2021/Paractical_Keras/blob/main/Developer_Guides/02.The_Sequential_Model.ipynb\" target=\"_parent\"><img src=\"https://colab.research.google.com/assets/colab-badge.svg\" alt=\"Open In Colab\"/></a>"
      ]
    },
    {
      "cell_type": "code",
      "execution_count": 2,
      "metadata": {
        "id": "sQxbfmJXL-BO"
      },
      "outputs": [],
      "source": [
        "import tensorflow as tf \n",
        "from tensorflow import keras \n",
        "from tensorflow.keras import layers "
      ]
    },
    {
      "cell_type": "code",
      "source": [
        "## When to use a sequential model \n",
        "# A: one input tensor and one output tensor \n",
        "\n",
        "# define sequential model with 3 layers \n",
        "model=keras.Sequential(\n",
        "    [\n",
        "        layers.Dense(2,activation='relu', name='layer1'),\n",
        "        layers.Dense(3,activation='relu', name='layer2'),\n",
        "        layers.Dense(4,name='layer3'),\n",
        "    ]\n",
        ")\n",
        "# call model on test input \n",
        "x=tf.ones((3,3))\n",
        "y=model(x)"
      ],
      "metadata": {
        "id": "bUb5QQjxMUN1"
      },
      "execution_count": 3,
      "outputs": []
    },
    {
      "cell_type": "code",
      "source": [
        "## A Sequential model is not appropriate when:\n",
        "# Your model has multiple inputs or multiple outputs\n",
        "# Any of your layers has multiple inputs or multiple outputs\n",
        "# You need to do layer sharing\n",
        "# You want non-linear topology (e.g. a residual connection, a multi-branch model)"
      ],
      "metadata": {
        "id": "bjYidgEnM771"
      },
      "execution_count": 4,
      "outputs": []
    },
    {
      "cell_type": "code",
      "source": [
        "model.layers"
      ],
      "metadata": {
        "colab": {
          "base_uri": "https://localhost:8080/"
        },
        "id": "-LEeTZL3NLBM",
        "outputId": "a01eb557-6ce4-4513-f255-1b78c23ad466"
      },
      "execution_count": 5,
      "outputs": [
        {
          "output_type": "execute_result",
          "data": {
            "text/plain": [
              "[<keras.layers.core.dense.Dense at 0x7f724fa54790>,\n",
              " <keras.layers.core.dense.Dense at 0x7f72d689e680>,\n",
              " <keras.layers.core.dense.Dense at 0x7f724fbdfb50>]"
            ]
          },
          "metadata": {},
          "execution_count": 5
        }
      ]
    },
    {
      "cell_type": "code",
      "source": [
        "# Sequential model incrementally via the add() method:\n",
        "model=keras.Sequential()\n",
        "model.add(layers.Dense(2, activation='relu'))\n",
        "model.add(layers.Dense(3, activation='relu'))\n",
        "model.add(layers.Dense(4))\n"
      ],
      "metadata": {
        "id": "7uw_4cciNO20"
      },
      "execution_count": 6,
      "outputs": []
    },
    {
      "cell_type": "code",
      "source": [
        "#  pop() method to remove layers\n",
        "model.pop() \n",
        "print(len(model.layers))"
      ],
      "metadata": {
        "colab": {
          "base_uri": "https://localhost:8080/"
        },
        "id": "XIMXno5aNl3D",
        "outputId": "2af75ed6-e408-4543-8ce3-b6add9c27eef"
      },
      "execution_count": 7,
      "outputs": [
        {
          "output_type": "stream",
          "name": "stdout",
          "text": [
            "2\n"
          ]
        }
      ]
    },
    {
      "cell_type": "code",
      "source": [
        "# Sequential constructor accepts a name argument\n",
        "model=keras.Sequential(name='my_sequential')\n",
        "model.add(layers.Dense(2, activation='relu', name='layer1'))\n",
        "model.add(layers.Dense(3, activation='relu', name='layer2'))\n",
        "model.add(layers.Dense(4, name='layer3'))\n"
      ],
      "metadata": {
        "id": "rFMQMTkANuHy"
      },
      "execution_count": 8,
      "outputs": []
    },
    {
      "cell_type": "code",
      "source": [
        "## Specifying the input shape in advance\n",
        "\n",
        "# Generally, \n",
        "# all layers in Keras need to know the shape of their inputs \n",
        "# in order to be able to create their weights. \n",
        "# So when you create a layer like this, initially, \n",
        "# it has no weights\n",
        "\n",
        "layer=layers.Dense(3)\n",
        "layer.weights"
      ],
      "metadata": {
        "colab": {
          "base_uri": "https://localhost:8080/"
        },
        "id": "h-MnwonuN_6j",
        "outputId": "2fc85817-3f0d-473b-fe99-f60636361e85"
      },
      "execution_count": 9,
      "outputs": [
        {
          "output_type": "execute_result",
          "data": {
            "text/plain": [
              "[]"
            ]
          },
          "metadata": {},
          "execution_count": 9
        }
      ]
    },
    {
      "cell_type": "code",
      "source": [
        "# call layer on a test input \n",
        "x=tf.ones((1,4))\n",
        "y=layer(x)\n",
        "layer.weights"
      ],
      "metadata": {
        "colab": {
          "base_uri": "https://localhost:8080/"
        },
        "id": "vNZ0_FRYOjKN",
        "outputId": "b2d209de-fcb7-44b3-e11c-2f130629512a"
      },
      "execution_count": 10,
      "outputs": [
        {
          "output_type": "execute_result",
          "data": {
            "text/plain": [
              "[<tf.Variable 'dense_3/kernel:0' shape=(4, 3) dtype=float32, numpy=\n",
              " array([[ 0.01333249, -0.18083793, -0.65777755],\n",
              "        [-0.23751307, -0.57233477, -0.16139114],\n",
              "        [-0.18834239,  0.7079414 , -0.7393804 ],\n",
              "        [ 0.3594334 , -0.90392035,  0.8984387 ]], dtype=float32)>,\n",
              " <tf.Variable 'dense_3/bias:0' shape=(3,) dtype=float32, numpy=array([0., 0., 0.], dtype=float32)>]"
            ]
          },
          "metadata": {},
          "execution_count": 10
        }
      ]
    },
    {
      "cell_type": "code",
      "source": [
        "# When you instantiate a Sequential model without an input shape, \n",
        "#it isn't \"built\": it has no weights \n",
        "\n",
        "model=keras.Sequential(\n",
        "    [\n",
        "        layers.Dense(2,activation='relu', name='layer1'),\n",
        "        layers.Dense(3,activation='relu', name='layer2'),\n",
        "        layers.Dense(4,name='layer3'),\n",
        "    ]\n",
        ") # no weights at this stage \n",
        "\n"
      ],
      "metadata": {
        "id": "Hnl-IWdfOyC5"
      },
      "execution_count": 12,
      "outputs": []
    },
    {
      "cell_type": "code",
      "source": [
        "# call layer on a test input \n",
        "x=tf.ones((1,4))\n",
        "y=model(x)\n",
        "print(\"number of weight after calling the model:\", len(model.weights))"
      ],
      "metadata": {
        "colab": {
          "base_uri": "https://localhost:8080/"
        },
        "id": "6Eybkh4BPRlK",
        "outputId": "e5c8c800-39c9-4d4c-9366-1605cdccf230"
      },
      "execution_count": 14,
      "outputs": [
        {
          "output_type": "stream",
          "name": "stdout",
          "text": [
            "number of weight after calling the model: 6\n"
          ]
        }
      ]
    },
    {
      "cell_type": "code",
      "source": [
        "model.summary()"
      ],
      "metadata": {
        "colab": {
          "base_uri": "https://localhost:8080/"
        },
        "id": "V5gWF9z1PgUQ",
        "outputId": "8897d4b9-0ac7-4112-fd87-28fc7a2e2c61"
      },
      "execution_count": 15,
      "outputs": [
        {
          "output_type": "stream",
          "name": "stdout",
          "text": [
            "Model: \"sequential_3\"\n",
            "_________________________________________________________________\n",
            " Layer (type)                Output Shape              Param #   \n",
            "=================================================================\n",
            " layer1 (Dense)              (1, 2)                    10        \n",
            "                                                                 \n",
            " layer2 (Dense)              (1, 3)                    9         \n",
            "                                                                 \n",
            " layer3 (Dense)              (1, 4)                    16        \n",
            "                                                                 \n",
            "=================================================================\n",
            "Total params: 35\n",
            "Trainable params: 35\n",
            "Non-trainable params: 0\n",
            "_________________________________________________________________\n"
          ]
        }
      ]
    },
    {
      "cell_type": "code",
      "source": [
        "model=keras.Sequential()\n",
        "model.add(keras.Input(shape=(4,)))\n",
        "model.add(layers.Dense(2, activation='relu'))\n",
        "\n",
        "model.summary()\n",
        "# Note that the Input object is not displayed \n",
        "# as part of model.layers, since it isn't a layer"
      ],
      "metadata": {
        "colab": {
          "base_uri": "https://localhost:8080/"
        },
        "id": "8YgIJAcXPqkx",
        "outputId": "e5409047-e37f-4043-9dc2-ac18389a16d0"
      },
      "execution_count": 17,
      "outputs": [
        {
          "output_type": "stream",
          "name": "stdout",
          "text": [
            "Model: \"sequential_5\"\n",
            "_________________________________________________________________\n",
            " Layer (type)                Output Shape              Param #   \n",
            "=================================================================\n",
            " dense_4 (Dense)             (None, 2)                 10        \n",
            "                                                                 \n",
            "=================================================================\n",
            "Total params: 10\n",
            "Trainable params: 10\n",
            "Non-trainable params: 0\n",
            "_________________________________________________________________\n"
          ]
        }
      ]
    },
    {
      "cell_type": "code",
      "source": [
        "# A simple alternative is to just pass an input_shape argument to your first layer:\n",
        "\n",
        "model=keras.Sequential()\n",
        "model.add(layers.Dense(2, activation='relu', input_shape=(4,)))\n",
        "model.summary()\n",
        "\n",
        "# Models built with a predefined input shape like this \n",
        "# always have weights (even before seeing any data) \n",
        "# and always have a defined output shape"
      ],
      "metadata": {
        "colab": {
          "base_uri": "https://localhost:8080/"
        },
        "id": "16u75J40QBBd",
        "outputId": "16b1fe68-594d-4133-9c5b-837b9d70a253"
      },
      "execution_count": 19,
      "outputs": [
        {
          "output_type": "stream",
          "name": "stdout",
          "text": [
            "Model: \"sequential_7\"\n",
            "_________________________________________________________________\n",
            " Layer (type)                Output Shape              Param #   \n",
            "=================================================================\n",
            " dense_6 (Dense)             (None, 2)                 10        \n",
            "                                                                 \n",
            "=================================================================\n",
            "Total params: 10\n",
            "Trainable params: 10\n",
            "Non-trainable params: 0\n",
            "_________________________________________________________________\n"
          ]
        }
      ]
    },
    {
      "cell_type": "code",
      "source": [
        "## A common debugging workflow: add() + summary()\n",
        "\n",
        "# When building a new Sequential architecture,\n",
        "# it's useful to incrementally stack layers with add() \n",
        "# and frequently print model summaries.\n",
        "\n",
        "model=keras.Sequential()\n",
        "model.add(keras.Input(shape=(250,250,3)))\n",
        "model.add(layers.Conv2D(32, 5, strides=2, activation=\"relu\"))\n",
        "model.add(layers.Conv2D(32, 3, activation=\"relu\" ))\n",
        "model.add(layers.MaxPooling2D(3))\n",
        "\n",
        "model.summary()\n",
        "\n",
        "model.add(layers.Conv2D(32, 3, activation=\"relu\" ))\n",
        "model.add(layers.Conv2D(32, 3, activation=\"relu\" ))\n",
        "model.add(layers.MaxPooling2D(3))\n",
        "model.add(layers.Conv2D(32, 3, activation=\"relu\" ))\n",
        "model.add(layers.Conv2D(32, 3, activation=\"relu\" ))\n",
        "model.add(layers.MaxPooling2D(2))\n",
        "\n",
        "model.summary() \n",
        "\n",
        "model.add(layers.GlobalMaxPooling2D())\n",
        "\n",
        "model.add(layers.Dense(10))\n"
      ],
      "metadata": {
        "colab": {
          "base_uri": "https://localhost:8080/"
        },
        "id": "v1ORsvRiQaQN",
        "outputId": "b7a2e9ca-a273-466d-e431-deb799d6ced1"
      },
      "execution_count": 22,
      "outputs": [
        {
          "output_type": "stream",
          "name": "stdout",
          "text": [
            "Model: \"sequential_10\"\n",
            "_________________________________________________________________\n",
            " Layer (type)                Output Shape              Param #   \n",
            "=================================================================\n",
            " conv2d_12 (Conv2D)          (None, 123, 123, 32)      2432      \n",
            "                                                                 \n",
            " conv2d_13 (Conv2D)          (None, 121, 121, 32)      9248      \n",
            "                                                                 \n",
            " max_pooling2d_6 (MaxPooling  (None, 40, 40, 32)       0         \n",
            " 2D)                                                             \n",
            "                                                                 \n",
            "=================================================================\n",
            "Total params: 11,680\n",
            "Trainable params: 11,680\n",
            "Non-trainable params: 0\n",
            "_________________________________________________________________\n",
            "Model: \"sequential_10\"\n",
            "_________________________________________________________________\n",
            " Layer (type)                Output Shape              Param #   \n",
            "=================================================================\n",
            " conv2d_12 (Conv2D)          (None, 123, 123, 32)      2432      \n",
            "                                                                 \n",
            " conv2d_13 (Conv2D)          (None, 121, 121, 32)      9248      \n",
            "                                                                 \n",
            " max_pooling2d_6 (MaxPooling  (None, 40, 40, 32)       0         \n",
            " 2D)                                                             \n",
            "                                                                 \n",
            " conv2d_14 (Conv2D)          (None, 38, 38, 32)        9248      \n",
            "                                                                 \n",
            " conv2d_15 (Conv2D)          (None, 36, 36, 32)        9248      \n",
            "                                                                 \n",
            " max_pooling2d_7 (MaxPooling  (None, 12, 12, 32)       0         \n",
            " 2D)                                                             \n",
            "                                                                 \n",
            " conv2d_16 (Conv2D)          (None, 10, 10, 32)        9248      \n",
            "                                                                 \n",
            " conv2d_17 (Conv2D)          (None, 8, 8, 32)          9248      \n",
            "                                                                 \n",
            " max_pooling2d_8 (MaxPooling  (None, 4, 4, 32)         0         \n",
            " 2D)                                                             \n",
            "                                                                 \n",
            "=================================================================\n",
            "Total params: 48,672\n",
            "Trainable params: 48,672\n",
            "Non-trainable params: 0\n",
            "_________________________________________________________________\n"
          ]
        }
      ]
    },
    {
      "cell_type": "code",
      "source": [
        "## What to do once you have a model\n",
        "# 1. train your model, evaluate it and run inference \n",
        "# 2. save your model to disk and restore it \n",
        "# 3. speed up model training by leveraging multiple gpu "
      ],
      "metadata": {
        "id": "W1JKNOhlTIE3"
      },
      "execution_count": 23,
      "outputs": []
    },
    {
      "cell_type": "code",
      "source": [
        "## Feature extraction with a Sequential model\n",
        "\n",
        "# These attributes can be used to do neat things, \n",
        "# like quickly creating a model that extracts the outputs \n",
        "# of all intermediate layers in a Sequential model\n",
        "\n",
        "initial_model = keras.Sequential(\n",
        "    [\n",
        "        keras.Input(shape=(250, 250, 3)),\n",
        "        layers.Conv2D(32, 5, strides=2, activation=\"relu\"),\n",
        "        layers.Conv2D(32, 3, activation=\"relu\"),\n",
        "        layers.Conv2D(32, 3, activation=\"relu\"),\n",
        "    ]\n",
        ")\n",
        "feature_extractor = keras.Model(\n",
        "    inputs=initial_model.inputs,\n",
        "    outputs=[layer.output for layer in initial_model.layers],\n",
        ")\n",
        "\n",
        "# Call feature extractor on test input.\n",
        "x = tf.ones((1, 250, 250, 3))\n",
        "features = feature_extractor(x)\n"
      ],
      "metadata": {
        "id": "6QCpK7XDTzQa"
      },
      "execution_count": 24,
      "outputs": []
    },
    {
      "cell_type": "code",
      "source": [
        "# Here's a similar example that only extract features from one layer:\n",
        "\n",
        "initial_model = keras.Sequential(\n",
        "    [\n",
        "        keras.Input(shape=(250, 250, 3)),\n",
        "        layers.Conv2D(32, 5, strides=2, activation=\"relu\"),\n",
        "        layers.Conv2D(32, 3, activation=\"relu\", name=\"my_intermediate_layer\"),\n",
        "        layers.Conv2D(32, 3, activation=\"relu\"),\n",
        "    ]\n",
        ")\n",
        "feature_extractor = keras.Model(\n",
        "    inputs=initial_model.inputs,\n",
        "    outputs=initial_model.get_layer(name=\"my_intermediate_layer\").output,\n",
        ")\n",
        "# Call feature extractor on test input.\n",
        "x = tf.ones((1, 250, 250, 3))\n",
        "features = feature_extractor(x)"
      ],
      "metadata": {
        "id": "pmUT5tXST7sp"
      },
      "execution_count": 25,
      "outputs": []
    },
    {
      "cell_type": "code",
      "source": [],
      "metadata": {
        "id": "RpVLxARxUQno"
      },
      "execution_count": null,
      "outputs": []
    }
  ]
}