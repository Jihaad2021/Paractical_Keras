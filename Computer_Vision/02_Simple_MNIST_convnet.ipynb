{
  "nbformat": 4,
  "nbformat_minor": 0,
  "metadata": {
    "colab": {
      "provenance": [],
      "authorship_tag": "ABX9TyN84zPeIWy0JIQydq23UGfp",
      "include_colab_link": true
    },
    "kernelspec": {
      "name": "python3",
      "display_name": "Python 3"
    },
    "language_info": {
      "name": "python"
    }
  },
  "cells": [
    {
      "cell_type": "markdown",
      "metadata": {
        "id": "view-in-github",
        "colab_type": "text"
      },
      "source": [
        "<a href=\"https://colab.research.google.com/github/Jihaad2021/Paractical_Keras/blob/main/Computer_Vision/02_Simple_MNIST_convnet.ipynb\" target=\"_parent\"><img src=\"https://colab.research.google.com/assets/colab-badge.svg\" alt=\"Open In Colab\"/></a>"
      ]
    },
    {
      "cell_type": "code",
      "execution_count": 2,
      "metadata": {
        "id": "VpvEQpT20G1h"
      },
      "outputs": [],
      "source": [
        "# Setup\n",
        "import numpy as np \n",
        "from tensorflow import keras \n",
        "from tensorflow.keras import layers"
      ]
    },
    {
      "cell_type": "code",
      "source": [
        "# Prepare the data\n",
        "\n",
        "# model / data parameter \n",
        "num_classes = 10 \n",
        "input_shape = (28,28,1) \n",
        "\n",
        "# load the data and split it betwen train and test sets \n",
        "(x_train, y_train), (x_test, y_test) = keras.datasets.mnist.load_data() \n",
        "\n",
        "# scale images to the [0,1] range \n",
        "x_train = x_train.astype(\"float32\")/255 \n",
        "x_test = x_test.astype(\"float32\")/255 \n",
        "\n",
        "# make sure images have shape (28,28,1) \n",
        "x_train = np.expand_dims(x_train, -1) \n",
        "x_test = np.expand_dims(x_test, -1) \n",
        "print(\"x_train shape: \", x_train.shape) \n",
        "print(x_train.shape[0], \"train samples\") \n",
        "print(x_test.shape[0], \"test samples\") \n",
        "\n",
        "# convert class vectors to binary class metrics \n",
        "y_train = keras.utils.to_categorical(y_train, num_classes)\n",
        "y_test = keras.utils.to_categorical(y_test, num_classes)\n"
      ],
      "metadata": {
        "colab": {
          "base_uri": "https://localhost:8080/"
        },
        "id": "g0RlcQZK1DlF",
        "outputId": "caf3b480-4744-4268-91ee-a28577ce0014"
      },
      "execution_count": 3,
      "outputs": [
        {
          "output_type": "stream",
          "name": "stdout",
          "text": [
            "Downloading data from https://storage.googleapis.com/tensorflow/tf-keras-datasets/mnist.npz\n",
            "11490434/11490434 [==============================] - 0s 0us/step\n",
            "x_train shape:  (60000, 28, 28, 1)\n",
            "60000 train samples\n",
            "10000 test samples\n"
          ]
        }
      ]
    },
    {
      "cell_type": "code",
      "source": [
        "# Build the model \n",
        "\n",
        "model = keras.Sequential(\n",
        "    [\n",
        "        keras.Input(shape=input_shape),\n",
        "        layers.Conv2D(32, kernel_size=(3,3), activation=\"relu\"),\n",
        "        layers.MaxPooling2D(pool_size=(2,2)), \n",
        "        layers.Conv2D(64, kernel_size=(3,3), activation=\"relu\"),\n",
        "        layers.MaxPooling2D(pool_size=(2,2)),\n",
        "        layers.Flatten(),\n",
        "        layers.Dropout(0.5), \n",
        "        layers.Dense(num_classes, activation=\"softmax\"), \n",
        "    ]\n",
        ")\n",
        "\n",
        "model.summary()"
      ],
      "metadata": {
        "colab": {
          "base_uri": "https://localhost:8080/"
        },
        "id": "uJLLUC6j2Vxm",
        "outputId": "9943effa-c5bd-4259-abe7-aa5c4118b6bf"
      },
      "execution_count": 4,
      "outputs": [
        {
          "output_type": "stream",
          "name": "stdout",
          "text": [
            "Model: \"sequential\"\n",
            "_________________________________________________________________\n",
            " Layer (type)                Output Shape              Param #   \n",
            "=================================================================\n",
            " conv2d (Conv2D)             (None, 26, 26, 32)        320       \n",
            "                                                                 \n",
            " max_pooling2d (MaxPooling2D  (None, 13, 13, 32)       0         \n",
            " )                                                               \n",
            "                                                                 \n",
            " conv2d_1 (Conv2D)           (None, 11, 11, 64)        18496     \n",
            "                                                                 \n",
            " max_pooling2d_1 (MaxPooling  (None, 5, 5, 64)         0         \n",
            " 2D)                                                             \n",
            "                                                                 \n",
            " flatten (Flatten)           (None, 1600)              0         \n",
            "                                                                 \n",
            " dropout (Dropout)           (None, 1600)              0         \n",
            "                                                                 \n",
            " dense (Dense)               (None, 10)                16010     \n",
            "                                                                 \n",
            "=================================================================\n",
            "Total params: 34,826\n",
            "Trainable params: 34,826\n",
            "Non-trainable params: 0\n",
            "_________________________________________________________________\n"
          ]
        }
      ]
    },
    {
      "cell_type": "code",
      "source": [
        "# Train the model \n",
        "batch_size = 128 \n",
        "epochs = 15 \n",
        "\n",
        "model.compile(loss=\"categorical_crossentropy\", optimizer=\"adam\", metrics=[\"accuracy\"]) \n",
        "\n",
        "model.fit(x_train, y_train, batch_size=batch_size, epochs=epochs, validation_split=0.1)"
      ],
      "metadata": {
        "colab": {
          "base_uri": "https://localhost:8080/"
        },
        "id": "Ydbu3oQj3UjG",
        "outputId": "5246c13c-3f8b-41c2-bd2c-799a68868c40"
      },
      "execution_count": 5,
      "outputs": [
        {
          "output_type": "stream",
          "name": "stdout",
          "text": [
            "Epoch 1/15\n",
            "422/422 [==============================] - 62s 144ms/step - loss: 0.3551 - accuracy: 0.8932 - val_loss: 0.0898 - val_accuracy: 0.9750\n",
            "Epoch 2/15\n",
            "422/422 [==============================] - 51s 120ms/step - loss: 0.1183 - accuracy: 0.9638 - val_loss: 0.0550 - val_accuracy: 0.9857\n",
            "Epoch 3/15\n",
            "422/422 [==============================] - 50s 119ms/step - loss: 0.0894 - accuracy: 0.9725 - val_loss: 0.0490 - val_accuracy: 0.9877\n",
            "Epoch 4/15\n",
            "422/422 [==============================] - 49s 117ms/step - loss: 0.0749 - accuracy: 0.9771 - val_loss: 0.0430 - val_accuracy: 0.9892\n",
            "Epoch 5/15\n",
            "422/422 [==============================] - 51s 120ms/step - loss: 0.0632 - accuracy: 0.9804 - val_loss: 0.0395 - val_accuracy: 0.9880\n",
            "Epoch 6/15\n",
            "422/422 [==============================] - 50s 120ms/step - loss: 0.0597 - accuracy: 0.9808 - val_loss: 0.0382 - val_accuracy: 0.9895\n",
            "Epoch 7/15\n",
            "422/422 [==============================] - 51s 121ms/step - loss: 0.0540 - accuracy: 0.9826 - val_loss: 0.0344 - val_accuracy: 0.9907\n",
            "Epoch 8/15\n",
            "422/422 [==============================] - 50s 119ms/step - loss: 0.0502 - accuracy: 0.9839 - val_loss: 0.0310 - val_accuracy: 0.9918\n",
            "Epoch 9/15\n",
            "422/422 [==============================] - 49s 117ms/step - loss: 0.0478 - accuracy: 0.9852 - val_loss: 0.0345 - val_accuracy: 0.9885\n",
            "Epoch 10/15\n",
            "422/422 [==============================] - 50s 118ms/step - loss: 0.0446 - accuracy: 0.9852 - val_loss: 0.0311 - val_accuracy: 0.9918\n",
            "Epoch 11/15\n",
            "422/422 [==============================] - 49s 117ms/step - loss: 0.0423 - accuracy: 0.9867 - val_loss: 0.0318 - val_accuracy: 0.9908\n",
            "Epoch 12/15\n",
            "422/422 [==============================] - 51s 121ms/step - loss: 0.0403 - accuracy: 0.9867 - val_loss: 0.0287 - val_accuracy: 0.9922\n",
            "Epoch 13/15\n",
            "422/422 [==============================] - 47s 112ms/step - loss: 0.0378 - accuracy: 0.9880 - val_loss: 0.0307 - val_accuracy: 0.9912\n",
            "Epoch 14/15\n",
            "422/422 [==============================] - 48s 114ms/step - loss: 0.0363 - accuracy: 0.9880 - val_loss: 0.0323 - val_accuracy: 0.9913\n",
            "Epoch 15/15\n",
            "422/422 [==============================] - 47s 112ms/step - loss: 0.0348 - accuracy: 0.9889 - val_loss: 0.0269 - val_accuracy: 0.9925\n"
          ]
        },
        {
          "output_type": "execute_result",
          "data": {
            "text/plain": [
              "<keras.callbacks.History at 0x7fa05bed6650>"
            ]
          },
          "metadata": {},
          "execution_count": 5
        }
      ]
    },
    {
      "cell_type": "code",
      "source": [
        "# Evaluate the trained model \n",
        "score = model.evaluate(x_test, y_test, verbose=0) \n",
        "print(\"Test loss: \", score[0])\n",
        "print(\"Test Accuracy: \", score[1])"
      ],
      "metadata": {
        "colab": {
          "base_uri": "https://localhost:8080/"
        },
        "id": "Cv-JYbOg38yA",
        "outputId": "16ca8d5f-ecfa-4712-ba79-86c58eb3ebb5"
      },
      "execution_count": 6,
      "outputs": [
        {
          "output_type": "stream",
          "name": "stdout",
          "text": [
            "Test loss:  0.02602655254304409\n",
            "Test Accuracy:  0.9911999702453613\n"
          ]
        }
      ]
    }
  ]
}